{
 "cells": [
  {
   "cell_type": "code",
   "execution_count": 137,
   "id": "d6168898-e495-4703-9170-61e396328417",
   "metadata": {
    "editable": true,
    "slideshow": {
     "slide_type": ""
    },
    "tags": []
   },
   "outputs": [],
   "source": [
    "import pandas as pd\n",
    "\n",
    "# Загрузка файла (предполагаем, что он находится в той же папке, что и блокнот)\n",
    "df = pd.read_csv(\"Desktop/soundcloud_tracks.csv\", sep=\";\")"
   ]
  },
  {
   "cell_type": "code",
   "execution_count": 139,
   "id": "6ad60806-a7f3-415b-bddf-10c61ee721e7",
   "metadata": {},
   "outputs": [
    {
     "name": "stdout",
     "output_type": "stream",
     "text": [
      "Index(['tag', 'name', 'listens', 'likes', 'comments',\n",
      "       'user_tags'],\n",
      "      dtype='object')\n"
     ]
    }
   ],
   "source": [
    "# Убеждаемся, что нужные столбцы загружены\n",
    "print(df.columns)"
   ]
  },
  {
   "cell_type": "code",
   "execution_count": 141,
   "id": "26a371a1-802d-49e2-9858-699fb6768610",
   "metadata": {},
   "outputs": [],
   "source": [
    "# Удаляем строки с отсутствующими значениями\n",
    "df = df.dropna(subset=[\"listens\", \"likes\", \"comments\"])"
   ]
  },
  {
   "cell_type": "code",
   "execution_count": 143,
   "id": "21b891ee-2113-400e-9712-3720059d45ce",
   "metadata": {
    "editable": true,
    "slideshow": {
     "slide_type": ""
    },
    "tags": []
   },
   "outputs": [],
   "source": [
    "# Преобразуем к числовому типу \n",
    "df[\"listens\"] = pd.to_numeric(df[\"listens\"], errors='coerce')\n",
    "df[\"likes\"] = pd.to_numeric(df[\"likes\"], errors='coerce')\n",
    "df[\"comments\"] = pd.to_numeric(df[\"comments\"], errors='coerce')"
   ]
  },
  {
   "cell_type": "code",
   "execution_count": 145,
   "id": "461c55d8-4eae-4fba-9947-db86580a95f9",
   "metadata": {},
   "outputs": [],
   "source": [
    "# Удаляем строки, где комментариев = 0\n",
    "df = df[df[\"comments\"] != 0]\n",
    "df = df[df[\"listens\"] != 0]\n",
    "df = df[df[\"likes\"] != 0]"
   ]
  },
  {
   "cell_type": "code",
   "execution_count": 147,
   "id": "d3900fdc-4df9-4c02-9c0c-0ff3e52a8af9",
   "metadata": {},
   "outputs": [],
   "source": [
    "# Преобразуем всё в целые числа\n",
    "df[\"listens\"] = df[\"listens\"].astype(int)\n",
    "df[\"likes\"] = df[\"likes\"].astype(int)\n",
    "df[\"comments\"] = df[\"comments\"].astype(int)"
   ]
  },
  {
   "cell_type": "code",
   "execution_count": 149,
   "id": "fff055eb-b5bb-4447-9f61-feb5ab29a768",
   "metadata": {},
   "outputs": [
    {
     "data": {
      "text/html": [
       "<div>\n",
       "<style scoped>\n",
       "    .dataframe tbody tr th:only-of-type {\n",
       "        vertical-align: middle;\n",
       "    }\n",
       "\n",
       "    .dataframe tbody tr th {\n",
       "        vertical-align: top;\n",
       "    }\n",
       "\n",
       "    .dataframe thead th {\n",
       "        text-align: right;\n",
       "    }\n",
       "</style>\n",
       "<table border=\"1\" class=\"dataframe\">\n",
       "  <thead>\n",
       "    <tr style=\"text-align: right;\">\n",
       "      <th></th>\n",
       "      <th>Тег</th>\n",
       "      <th>Название трека</th>\n",
       "      <th>listens</th>\n",
       "      <th>likes</th>\n",
       "      <th>Комментарии</th>\n",
       "      <th>Теги из трека</th>\n",
       "    </tr>\n",
       "  </thead>\n",
       "  <tbody>\n",
       "    <tr>\n",
       "      <th>0</th>\n",
       "      <td>hip-hop</td>\n",
       "      <td>Life for Hip Hop Cheema Y</td>\n",
       "      <td>745149</td>\n",
       "      <td>5509</td>\n",
       "      <td>48</td>\n",
       "      <td>NaN</td>\n",
       "    </tr>\n",
       "    <tr>\n",
       "      <th>1</th>\n",
       "      <td>hip-hop</td>\n",
       "      <td>Life For Hip Hop</td>\n",
       "      <td>419364</td>\n",
       "      <td>2322</td>\n",
       "      <td>6</td>\n",
       "      <td>NaN</td>\n",
       "    </tr>\n",
       "    <tr>\n",
       "      <th>2</th>\n",
       "      <td>hip-hop</td>\n",
       "      <td>Belt Boyz</td>\n",
       "      <td>1213117</td>\n",
       "      <td>26154</td>\n",
       "      <td>303</td>\n",
       "      <td>NaN</td>\n",
       "    </tr>\n",
       "    <tr>\n",
       "      <th>3</th>\n",
       "      <td>hip-hop</td>\n",
       "      <td>Gunna - Spending Addiction</td>\n",
       "      <td>641858</td>\n",
       "      <td>6866</td>\n",
       "      <td>19</td>\n",
       "      <td>NaN</td>\n",
       "    </tr>\n",
       "    <tr>\n",
       "      <th>4</th>\n",
       "      <td>hip-hop</td>\n",
       "      <td>Gunna - Helluva Price</td>\n",
       "      <td>692327</td>\n",
       "      <td>8244</td>\n",
       "      <td>25</td>\n",
       "      <td>NaN</td>\n",
       "    </tr>\n",
       "  </tbody>\n",
       "</table>\n",
       "</div>"
      ],
      "text/plain": [
       "       tag                        name       listens  likes     comments  \\\n",
       "0  hip-hop   Life for Hip Hop Cheema Y         745149   5509           48   \n",
       "1  hip-hop            Life For Hip Hop         419364   2322            6   \n",
       "2  hip-hop                   Belt Boyz        1213117  26154          303   \n",
       "3  hip-hop  Gunna - Spending Addiction         641858   6866           19   \n",
       "4  hip-hop       Gunna - Helluva Price         692327   8244           25   \n",
       "\n",
       "  user_tags      \n",
       "0           NaN  \n",
       "1           NaN  \n",
       "2           NaN  \n",
       "3           NaN  \n",
       "4           NaN  "
      ]
     },
     "execution_count": 149,
     "metadata": {},
     "output_type": "execute_result"
    }
   ],
   "source": [
    "# Проверяем данные\n",
    "df.head()"
   ]
  },
  {
   "cell_type": "code",
   "execution_count": 151,
   "id": "dbcf55ee-4aad-420b-a57d-c854fe2ca018",
   "metadata": {
    "editable": true,
    "slideshow": {
     "slide_type": ""
    },
    "tags": []
   },
   "outputs": [],
   "source": [
    "# Сохраняем таблицу с очищенными данными\n",
    "df.to_csv(\"soundcloud_tracks_cleaned.csv\", index=False)"
   ]
  },
  {
   "cell_type": "code",
   "execution_count": 157,
   "id": "971ae23d-673f-4cde-9f88-3dd7add1406c",
   "metadata": {},
   "outputs": [
    {
     "name": "stdout",
     "output_type": "stream",
     "text": [
      "\n",
      "🔎 Информация о датафрейме:\n",
      "<class 'pandas.core.frame.DataFrame'>\n",
      "Index: 144 entries, 0 to 149\n",
      "Data columns (total 6 columns):\n",
      " #   Column          Non-Null Count  Dtype \n",
      "---  ------          --------------  ----- \n",
      " 0   tag             144 non-null    object\n",
      " 1   name            144 non-null    object\n",
      " 2   listens         144 non-null    int64 \n",
      " 3   likes           144 non-null    int64 \n",
      " 4   comments        144 non-null    int64 \n",
      " 5   user_tags       74 non-null     object\n",
      "dtypes: int64(3), object(3)\n",
      "memory usage: 7.9+ KB\n",
      "None\n",
      "\n",
      "📊 Описательная статистика:\n",
      "         listens             likes      comments\n",
      "count   1.440000e+02  1.440000e+02    144.000000\n",
      "mean    8.780972e+06  1.197664e+05   2323.506944\n",
      "std     2.235430e+07  2.771642e+05   6186.081206\n",
      "min     2.200000e+01  1.000000e+00      1.000000\n",
      "25%     3.623402e+05  5.620000e+03     38.000000\n",
      "50%     1.607252e+06  2.544200e+04    279.500000\n",
      "75%     8.513123e+06  1.041660e+05   1538.500000\n",
      "max     2.118294e+08  2.542058e+06  45394.000000\n",
      "\n",
      "❓ Количество пропущенных значений:\n",
      "tag                0\n",
      "name               0\n",
      "listens            0\n",
      "likes              0\n",
      "comments           0\n",
      "user_tags         70\n",
      "dtype: int64\n",
      "\n",
      "🔢 Количество уникальных значений в каждом столбце:\n",
      "tag                 6\n",
      "name              141\n",
      "listens           144\n",
      "likes             144\n",
      "comments          126\n",
      "user_tags          70\n",
      "dtype: int64\n",
      "\n",
      "🧪 Первые 5 строк датафрейма:\n",
      "       tag                        name       listens  likes     comments  \\\n",
      "0  hip-hop   Life for Hip Hop Cheema Y         745149   5509           48   \n",
      "1  hip-hop            Life For Hip Hop         419364   2322            6   \n",
      "2  hip-hop                   Belt Boyz        1213117  26154          303   \n",
      "3  hip-hop  Gunna - Spending Addiction         641858   6866           19   \n",
      "4  hip-hop       Gunna - Helluva Price         692327   8244           25   \n",
      "\n",
      "  user_tags      \n",
      "0           NaN  \n",
      "1           NaN  \n",
      "2           NaN  \n",
      "3           NaN  \n",
      "4           NaN  \n"
     ]
    }
   ],
   "source": [
    "print(\"\\n🔎 Информация о датафрейме:\")\n",
    "print(df.info())\n",
    "\n",
    "print(\"\\n📊 Описательная статистика:\")\n",
    "print(df.describe())\n",
    "\n",
    "print(\"\\n❓ Количество пропущенных значений:\")\n",
    "print(df.isnull().sum())\n",
    "\n",
    "print(\"\\n🔢 Количество уникальных значений в каждом столбце:\")\n",
    "print(df.nunique())\n",
    "\n",
    "print(\"\\n🧪 Первые 5 строк датафрейма:\")\n",
    "print(df.head())"
   ]
  }
 ],
 "metadata": {
  "kernelspec": {
   "display_name": "Python [conda env:base] *",
   "language": "python",
   "name": "conda-base-py"
  },
  "language_info": {
   "codemirror_mode": {
    "name": "ipython",
    "version": 3
   },
   "file_extension": ".py",
   "mimetype": "text/x-python",
   "name": "python",
   "nbconvert_exporter": "python",
   "pygments_lexer": "ipython3",
   "version": "3.12.7"
  }
 },
 "nbformat": 4,
 "nbformat_minor": 5
}
