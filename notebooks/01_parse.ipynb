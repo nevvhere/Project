{
 "cells": [
  {
   "cell_type": "code",
   "execution_count": 4,
   "id": "64581915-a75c-48f4-a982-6b0771973c8a",
   "metadata": {},
   "outputs": [],
   "source": [
    "# Импортируем нужные пакеты\n",
    "import requests\n",
    "import pandas as pd\n",
    "import time"
   ]
  },
  {
   "cell_type": "code",
   "execution_count": 6,
   "id": "5dda846d-a66c-4a08-a27c-a0ee2d02ef0c",
   "metadata": {},
   "outputs": [],
   "source": [
    "# Вставляем наш API\n",
    "client_id = \"AXHkknI02RnaQ0vVJ3FK3pVcoToTlmFK\""
   ]
  },
  {
   "cell_type": "code",
   "execution_count": 8,
   "id": "c169b234-ac73-4d4a-85c2-cdf3286484c4",
   "metadata": {},
   "outputs": [],
   "source": [
    "# Список тегов для сбора треков\n",
    "tags = ['hip-hop', 'jazz', 'chill', 'trap', 'indi', 'pop']\n",
    "all_tracks = []"
   ]
  },
  {
   "cell_type": "code",
   "execution_count": null,
   "id": "ab4738ad-3b4b-43a3-ab77-84fc850d21e2",
   "metadata": {},
   "outputs": [],
   "source": [
    "# По 25 треков на каждый тег\n",
    "for tag in tags:\n",
    "    print(f\"Загружаем треки для тега: {tag}\")\n",
    "    \n",
    "    url = f\"https://api-v2.soundcloud.com/search/tracks?q={tag}&client_id={client_id}&limit=25\"\n",
    "    response = requests.get(url)\n",
    "    \n",
    "    if response.status_code != 200:\n",
    "        print(f\"Ошибка при запросе для тега {tag}: {response.status_code}\")\n",
    "        continue\n",
    "    \n",
    "    data = response.json()\n",
    "\n",
    "    for track in data.get(\"collection\", []):\n",
    "        all_tracks.append({\n",
    "            \"tag\": tag,\n",
    "            \"name\": track.get(\"title\"),\n",
    "            \"listens\": track.get(\"playback_count\"),\n",
    "            \"likes\": track.get(\"likes_count\"),\n",
    "            \"comments\": track.get(\"comment_count\"),\n",
    "            \"user_tags\": track.get(\"tag_list\")\n",
    "        })\n",
    "    \n",
    "    time.sleep(1)  # Не перегружаем API"
   ]
  },
  {
   "cell_type": "code",
   "execution_count": 18,
   "id": "3e510f5b-b847-459d-8b60-6acf35c9e9bd",
   "metadata": {},
   "outputs": [],
   "source": [
    "# Создание DataFrame\n",
    "df = pd.DataFrame(all_tracks)"
   ]
  },
  {
   "cell_type": "code",
   "execution_count": 20,
   "id": "23699329-6e10-49b1-a0b4-eb712c90f9e9",
   "metadata": {},
   "outputs": [],
   "source": [
    "# Сохраняем таблицу в CSV\n",
    "df.to_csv(\"soundcloud_tracks.csv\", index=False)"
   ]
  }
 ],
 "metadata": {
  "kernelspec": {
   "display_name": "Python [conda env:base] *",
   "language": "python",
   "name": "conda-base-py"
  },
  "language_info": {
   "codemirror_mode": {
    "name": "ipython",
    "version": 3
   },
   "file_extension": ".py",
   "mimetype": "text/x-python",
   "name": "python",
   "nbconvert_exporter": "python",
   "pygments_lexer": "ipython3",
   "version": "3.12.7"
  }
 },
 "nbformat": 4,
 "nbformat_minor": 5
}
