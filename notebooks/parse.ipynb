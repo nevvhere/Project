{
 "cells": [
  {
   "cell_type": "code",
   "execution_count": null,
   "id": "64581915-a75c-48f4-a982-6b0771973c8a",
   "metadata": {},
   "outputs": [],
   "source": [
    "#Импортируем нужные пакеты\n",
    "import requests\n",
    "import pandas as pd\n",
    "import time"
   ]
  },
  {
   "cell_type": "code",
   "execution_count": 1,
   "id": "5dda846d-a66c-4a08-a27c-a0ee2d02ef0c",
   "metadata": {},
   "outputs": [],
   "source": [
    "#Вставляем наш API\n",
    "client_id = \"AXHkknI02RnaQ0vVJ3FK3pVcoToTlmFK\""
   ]
  },
  {
   "cell_type": "code",
   "execution_count": null,
   "id": "c169b234-ac73-4d4a-85c2-cdf3286484c4",
   "metadata": {},
   "outputs": [],
   "source": [
    "# Список тегов для сбора треков\n",
    "tags = ['hip-hop', 'jazz', 'chill', 'trap', 'indi', 'pop']\n",
    "all_tracks = []"
   ]
  }
 ],
 "metadata": {
  "kernelspec": {
   "display_name": "Python [conda env:base] *",
   "language": "python",
   "name": "conda-base-py"
  },
  "language_info": {
   "codemirror_mode": {
    "name": "ipython",
    "version": 3
   },
   "file_extension": ".py",
   "mimetype": "text/x-python",
   "name": "python",
   "nbconvert_exporter": "python",
   "pygments_lexer": "ipython3",
   "version": "3.12.7"
  }
 },
 "nbformat": 4,
 "nbformat_minor": 5
}
